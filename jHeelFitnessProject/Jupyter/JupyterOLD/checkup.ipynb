{
 "cells": [
  {
   "cell_type": "markdown",
   "metadata": {},
   "source": [
    "# Checkup of User Goals and Devices"
   ]
  },
  {
   "cell_type": "code",
   "execution_count": 1,
   "metadata": {},
   "outputs": [
    {
     "ename": "TypeError",
     "evalue": "Checkup.__init__() got an unexpected keyword argument 'output_func'",
     "output_type": "error",
     "traceback": [
      "\u001b[1;31m---------------------------------------------------------------------------\u001b[0m",
      "\u001b[1;31mTypeError\u001b[0m                                 Traceback (most recent call last)",
      "Cell \u001b[1;32mIn[1], line 15\u001b[0m\n\u001b[0;32m     12\u001b[0m db_params_dict \u001b[38;5;241m=\u001b[39m gc_config\u001b[38;5;241m.\u001b[39mget_db_params()\n\u001b[0;32m     13\u001b[0m garmin_db \u001b[38;5;241m=\u001b[39m GarminDb(db_params_dict)\n\u001b[1;32m---> 15\u001b[0m checkup \u001b[38;5;241m=\u001b[39m \u001b[43mgarmindb\u001b[49m\u001b[38;5;241;43m.\u001b[39;49m\u001b[43mCheckup\u001b[49m\u001b[43m(\u001b[49m\u001b[43moutput_func\u001b[49m\u001b[38;5;241;43m=\u001b[39;49m\u001b[43mdoc\u001b[49m\u001b[38;5;241;43m.\u001b[39;49m\u001b[43madd_paragraph\u001b[49m\u001b[43m)\u001b[49m\n\u001b[0;32m     17\u001b[0m doc\u001b[38;5;241m.\u001b[39madd_header(\u001b[38;5;124m\"\u001b[39m\u001b[38;5;124mGoals\u001b[39m\u001b[38;5;124m\"\u001b[39m, \u001b[38;5;241m2\u001b[39m)\n\u001b[0;32m     18\u001b[0m checkup\u001b[38;5;241m.\u001b[39mgoals()\n",
      "\u001b[1;31mTypeError\u001b[0m: Checkup.__init__() got an unexpected keyword argument 'output_func'"
     ]
    }
   ],
   "source": [
    "from IPython.display import display, Markdown\n",
    "import snakemd\n",
    "\n",
    "import fitfile\n",
    "import garmindb\n",
    "from garmindb import GarminConnectConfigManager\n",
    "from garmindb.garmindb import GarminDb, Device, DeviceInfo, ActivitiesDb, Activities, ActivityLaps, ActivityRecords, StepsActivities\n",
    "\n",
    "doc = snakemd.new_doc()\n",
    "\n",
    "gc_config = GarminConnectConfigManager()\n",
    "db_params_dict = gc_config.get_db_params()\n",
    "garmin_db = GarminDb(db_params_dict)\n",
    "\n",
    "checkup = garmindb.Checkup(output_func=doc.add_paragraph)\n",
    "\n",
    "doc.add_header(\"Goals\", 2)\n",
    "checkup.goals()\n",
    "\n",
    "doc.add_header(\"Devices with Low Batteries\", 2)\n",
    "\n",
    "devices = Device.get_all(garmin_db)\n",
    "for device in devices:\n",
    "    battery_level = DeviceInfo.get_col_latest_where(garmin_db, DeviceInfo.battery_status,\n",
    "                                                    [DeviceInfo.serial_number == device.serial_number,\n",
    "                                                        DeviceInfo.battery_status != fitfile.field_enums.BatteryStatus.invalid])\n",
    "    if battery_level is fitfile.field_enums.BatteryStatus.low:\n",
    "        doc.add_paragraph(f\"Device {device.manufacturer} {device.product} ({device.serial_number}) has a low battery\")\n",
    "\n",
    "display(Markdown(str(doc)))"
   ]
  },
  {
   "cell_type": "code",
   "execution_count": null,
   "metadata": {},
   "outputs": [],
   "source": []
  }
 ],
 "metadata": {
  "interpreter": {
   "hash": "d4f50e87ad7f9cd136d9d3dcf547b8236ee2585f92d0ab7c53dfb80e44e3fae9"
  },
  "kernelspec": {
   "display_name": "Python 3 (ipykernel)",
   "language": "python",
   "name": "python3"
  },
  "language_info": {
   "codemirror_mode": {
    "name": "ipython",
    "version": 3
   },
   "file_extension": ".py",
   "mimetype": "text/x-python",
   "name": "python",
   "nbconvert_exporter": "python",
   "pygments_lexer": "ipython3",
   "version": "3.12.4"
  }
 },
 "nbformat": 4,
 "nbformat_minor": 4
}
