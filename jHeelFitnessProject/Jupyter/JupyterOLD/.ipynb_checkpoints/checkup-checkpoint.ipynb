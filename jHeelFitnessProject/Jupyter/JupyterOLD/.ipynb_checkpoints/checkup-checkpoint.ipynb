{
 "cells": [
  {
   "cell_type": "markdown",
   "metadata": {},
   "source": [
    "# Checkup of User Goals and Devices"
   ]
  },
  {
   "cell_type": "code",
   "execution_count": 1,
   "metadata": {},
   "outputs": [
    {
     "ename": "ModuleNotFoundError",
     "evalue": "No module named 'garmindb.graphs'",
     "output_type": "error",
     "traceback": [
      "\u001b[1;31m---------------------------------------------------------------------------\u001b[0m",
      "\u001b[1;31mModuleNotFoundError\u001b[0m                       Traceback (most recent call last)",
      "Cell \u001b[1;32mIn[1], line 6\u001b[0m\n\u001b[0;32m      2\u001b[0m \u001b[38;5;28;01mimport\u001b[39;00m \u001b[38;5;21;01msnakemd\u001b[39;00m\n\u001b[0;32m      4\u001b[0m \u001b[38;5;28;01mimport\u001b[39;00m \u001b[38;5;21;01mfitfile\u001b[39;00m\n\u001b[1;32m----> 6\u001b[0m \u001b[38;5;28;01mfrom\u001b[39;00m \u001b[38;5;21;01mgarmindb\u001b[39;00m \u001b[38;5;28;01mimport\u001b[39;00m GarminConnectConfigManager\n\u001b[0;32m      7\u001b[0m \u001b[38;5;28;01mfrom\u001b[39;00m \u001b[38;5;21;01mgarmindb\u001b[39;00m\u001b[38;5;21;01m.\u001b[39;00m\u001b[38;5;21;01mgarmindb\u001b[39;00m \u001b[38;5;28;01mimport\u001b[39;00m GarminDb, Device, DeviceInfo, ActivitiesDb, Activities, ActivityLaps, ActivityRecords, StepsActivities\n\u001b[0;32m      9\u001b[0m doc \u001b[38;5;241m=\u001b[39m snakemd\u001b[38;5;241m.\u001b[39mnew_doc(\u001b[38;5;124m\"\u001b[39m\u001b[38;5;124mcheckup\u001b[39m\u001b[38;5;124m\"\u001b[39m)\n",
      "File \u001b[1;32m~\\AppData\\Local\\Programs\\Python\\Python312\\Lib\\site-packages\\garmindb\\__init__.py:26\u001b[0m\n\u001b[0;32m     24\u001b[0m \u001b[38;5;28;01mfrom\u001b[39;00m \u001b[38;5;21;01m.\u001b[39;00m\u001b[38;5;21;01mopen_with_basecamp\u001b[39;00m \u001b[38;5;28;01mimport\u001b[39;00m OpenWithBaseCamp\n\u001b[0;32m     25\u001b[0m \u001b[38;5;28;01mfrom\u001b[39;00m \u001b[38;5;21;01m.\u001b[39;00m\u001b[38;5;21;01mopen_with_google_earth\u001b[39;00m \u001b[38;5;28;01mimport\u001b[39;00m OpenWithGoogleEarth\n\u001b[1;32m---> 26\u001b[0m \u001b[38;5;28;01mfrom\u001b[39;00m \u001b[38;5;21;01m.\u001b[39;00m\u001b[38;5;21;01mgraphs\u001b[39;00m \u001b[38;5;28;01mimport\u001b[39;00m Graph\n\u001b[0;32m     29\u001b[0m \u001b[38;5;28;01mfrom\u001b[39;00m \u001b[38;5;21;01m.\u001b[39;00m\u001b[38;5;21;01mcheckup\u001b[39;00m \u001b[38;5;28;01mimport\u001b[39;00m Checkup\n\u001b[0;32m     31\u001b[0m \u001b[38;5;28;01mfrom\u001b[39;00m \u001b[38;5;21;01m.\u001b[39;00m\u001b[38;5;21;01mcopy\u001b[39;00m \u001b[38;5;28;01mimport\u001b[39;00m Copy\n",
      "\u001b[1;31mModuleNotFoundError\u001b[0m: No module named 'garmindb.graphs'"
     ]
    }
   ],
   "source": [
    "from IPython.display import display, Markdown\n",
    "import snakemd\n",
    "\n",
    "import fitfile\n",
    "import garmindb\n",
    "from garmindb import GarminConnectConfigManager\n",
    "from garmindb.garmindb import GarminDb, Device, DeviceInfo, ActivitiesDb, Activities, ActivityLaps, ActivityRecords, StepsActivities\n",
    "\n",
    "doc = snakemd.new_doc(\"checkup\")\n",
    "\n",
    "db_params_dict = ConfigManager.get_db_params()\n",
    "\n",
    "garmin_db = GarminDb(db_params_dict)\n",
    "\n",
    "checkup = garmindb.Checkup(output_func=doc.add_paragraph)\n",
    "\n",
    "doc.add_header(\"Goals\", 2)\n",
    "checkup.goals()\n",
    "\n",
    "doc.add_header(\"Devices with Low Batteries\", 2)\n",
    "\n",
    "devices = Device.get_all(garmin_db)\n",
    "for device in devices:\n",
    "    battery_level = DeviceInfo.get_col_latest_where(garmin_db, DeviceInfo.battery_status,\n",
    "                                                    [DeviceInfo.serial_number == device.serial_number,\n",
    "                                                        DeviceInfo.battery_status != fitfile.field_enums.BatteryStatus.invalid])\n",
    "    if battery_level is fitfile.field_enums.BatteryStatus.low:\n",
    "        doc.add_paragraph(f\"Device {device.manufacturer} {device.product} ({device.serial_number}) has a low battery\")\n",
    "\n",
    "display(Markdown(str(doc)))"
   ]
  },
  {
   "cell_type": "code",
   "execution_count": null,
   "metadata": {},
   "outputs": [],
   "source": []
  }
 ],
 "metadata": {
  "interpreter": {
   "hash": "d4f50e87ad7f9cd136d9d3dcf547b8236ee2585f92d0ab7c53dfb80e44e3fae9"
  },
  "kernelspec": {
   "display_name": "Python 3 (ipykernel)",
   "language": "python",
   "name": "python3"
  },
  "language_info": {
   "codemirror_mode": {
    "name": "ipython",
    "version": 3
   },
   "file_extension": ".py",
   "mimetype": "text/x-python",
   "name": "python",
   "nbconvert_exporter": "python",
   "pygments_lexer": "ipython3",
   "version": "3.12.4"
  }
 },
 "nbformat": 4,
 "nbformat_minor": 4
}
