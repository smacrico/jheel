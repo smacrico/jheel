{
 "cells": [
  {
   "cell_type": "code",
   "execution_count": 1,
   "id": "ec4a519b-99d6-4333-9a22-dfbf107b7b4e",
   "metadata": {},
   "outputs": [
    {
     "name": "stdout",
     "output_type": "stream",
     "text": [
      "The 'activities' table exists.\n"
     ]
    }
   ],
   "source": [
    "import sqlite3\n",
    "\n",
    "# Replace 'path/to/your/database.db' with the actual path to your database file\n",
    "conn = sqlite3.connect('C:/Users/stma/HealthData/DBs/garmin_activities.db')\n",
    "\n",
    "# Create a cursor object to execute SQL queries\n",
    "cursor = conn.cursor()\n",
    "\n",
    "cursor.execute(\"SELECT name FROM sqlite_master WHERE type='table'\")\n",
    "tables = cursor.fetchall()\n",
    "table_names = [table[0] for table in tables]  # Extract table names from results\n",
    "\n",
    "if \"activities\" in table_names:\n",
    "    print(\"The 'activities' table exists.\")\n",
    "else:\n",
    "    print(\"The 'activities' table does not exist.\")\n",
    "\n",
    "\n",
    "\n",
    "# Remember to close the connection after you're done\n",
    "conn.close()"
   ]
  },
  {
   "cell_type": "code",
   "execution_count": null,
   "id": "13f653e3-68ab-4ac4-a9a2-e5f7940bf018",
   "metadata": {},
   "outputs": [],
   "source": []
  },
  {
   "cell_type": "code",
   "execution_count": null,
   "id": "bf0e5861-2896-4e6c-8050-bc196203553b",
   "metadata": {},
   "outputs": [],
   "source": []
  }
 ],
 "metadata": {
  "kernelspec": {
   "display_name": "Python 3 (ipykernel)",
   "language": "python",
   "name": "python3"
  },
  "language_info": {
   "codemirror_mode": {
    "name": "ipython",
    "version": 3
   },
   "file_extension": ".py",
   "mimetype": "text/x-python",
   "name": "python",
   "nbconvert_exporter": "python",
   "pygments_lexer": "ipython3",
   "version": "3.12.4"
  }
 },
 "nbformat": 4,
 "nbformat_minor": 5
}
